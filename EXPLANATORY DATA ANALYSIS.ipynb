{
 "cells": [
  {
   "cell_type": "markdown",
   "id": "256a725e",
   "metadata": {},
   "source": [
    "# EXPLANATORY DATA ANALYSIS\n"
   ]
  },
  {
   "cell_type": "markdown",
   "id": "126c27ff",
   "metadata": {},
   "source": [
    "## IT IS UNDERSTANDING DATA THAT I WILL USE TO BUILD ML THE MODULES WITH\n"
   ]
  },
  {
   "cell_type": "markdown",
   "id": "1551f081",
   "metadata": {},
   "source": [
    "### IN THIS NOTEBOOK I WILL >>EXPLAIN THE DATA VARIABLES, >>CLEAN DATA AND >> ANALYZE RLSHP IN DATA VARIABLES"
   ]
  },
  {
   "cell_type": "code",
   "execution_count": 18,
   "id": "ba863b68",
   "metadata": {},
   "outputs": [],
   "source": [
    "import pandas as pd\n",
    "import numpy as np\n",
    "import seaborn as sns\n"
   ]
  },
  {
   "cell_type": "code",
   "execution_count": null,
   "id": "650b4c17",
   "metadata": {},
   "outputs": [],
   "source": []
  },
  {
   "cell_type": "code",
   "execution_count": 19,
   "id": "57c542c7",
   "metadata": {},
   "outputs": [],
   "source": [
    "df=pd.read_csv(\"kenyan pop.csv\")"
   ]
  },
  {
   "cell_type": "code",
   "execution_count": 20,
   "id": "7b3c6891",
   "metadata": {},
   "outputs": [
    {
     "data": {
      "text/html": [
       "<div>\n",
       "<style scoped>\n",
       "    .dataframe tbody tr th:only-of-type {\n",
       "        vertical-align: middle;\n",
       "    }\n",
       "\n",
       "    .dataframe tbody tr th {\n",
       "        vertical-align: top;\n",
       "    }\n",
       "\n",
       "    .dataframe thead th {\n",
       "        text-align: right;\n",
       "    }\n",
       "</style>\n",
       "<table border=\"1\" class=\"dataframe\">\n",
       "  <thead>\n",
       "    <tr style=\"text-align: right;\">\n",
       "      <th></th>\n",
       "      <th>name</th>\n",
       "      <th>Male</th>\n",
       "      <th>Female</th>\n",
       "      <th>Intersex</th>\n",
       "      <th>Total</th>\n",
       "    </tr>\n",
       "  </thead>\n",
       "  <tbody>\n",
       "    <tr>\n",
       "      <th>0</th>\n",
       "      <td>Kenya</td>\n",
       "      <td>23548056</td>\n",
       "      <td>24014716</td>\n",
       "      <td>1524.0</td>\n",
       "      <td>47564296</td>\n",
       "    </tr>\n",
       "    <tr>\n",
       "      <th>1</th>\n",
       "      <td>Mombasa</td>\n",
       "      <td>610257</td>\n",
       "      <td>598046</td>\n",
       "      <td>30.0</td>\n",
       "      <td>1208333</td>\n",
       "    </tr>\n",
       "    <tr>\n",
       "      <th>2</th>\n",
       "      <td>Changamwe</td>\n",
       "      <td>68761</td>\n",
       "      <td>63121</td>\n",
       "      <td>NaN</td>\n",
       "      <td>131882</td>\n",
       "    </tr>\n",
       "    <tr>\n",
       "      <th>3</th>\n",
       "      <td>Jomvu</td>\n",
       "      <td>83002</td>\n",
       "      <td>80410</td>\n",
       "      <td>3.0</td>\n",
       "      <td>163415</td>\n",
       "    </tr>\n",
       "    <tr>\n",
       "      <th>4</th>\n",
       "      <td>Kisauni</td>\n",
       "      <td>146748</td>\n",
       "      <td>145176</td>\n",
       "      <td>6.0</td>\n",
       "      <td>291930</td>\n",
       "    </tr>\n",
       "    <tr>\n",
       "      <th>...</th>\n",
       "      <td>...</td>\n",
       "      <td>...</td>\n",
       "      <td>...</td>\n",
       "      <td>...</td>\n",
       "      <td>...</td>\n",
       "    </tr>\n",
       "    <tr>\n",
       "      <th>388</th>\n",
       "      <td>Makadara</td>\n",
       "      <td>96369</td>\n",
       "      <td>93157</td>\n",
       "      <td>10.0</td>\n",
       "      <td>189536</td>\n",
       "    </tr>\n",
       "    <tr>\n",
       "      <th>389</th>\n",
       "      <td>Mathare</td>\n",
       "      <td>106522</td>\n",
       "      <td>100028</td>\n",
       "      <td>14.0</td>\n",
       "      <td>206564</td>\n",
       "    </tr>\n",
       "    <tr>\n",
       "      <th>390</th>\n",
       "      <td>Njiru</td>\n",
       "      <td>307642</td>\n",
       "      <td>318809</td>\n",
       "      <td>31.0</td>\n",
       "      <td>626482</td>\n",
       "    </tr>\n",
       "    <tr>\n",
       "      <th>391</th>\n",
       "      <td>Starehe</td>\n",
       "      <td>109173</td>\n",
       "      <td>101238</td>\n",
       "      <td>12.0</td>\n",
       "      <td>210423</td>\n",
       "    </tr>\n",
       "    <tr>\n",
       "      <th>392</th>\n",
       "      <td>Westlands</td>\n",
       "      <td>153818</td>\n",
       "      <td>155021</td>\n",
       "      <td>15.0</td>\n",
       "      <td>308854</td>\n",
       "    </tr>\n",
       "  </tbody>\n",
       "</table>\n",
       "<p>393 rows × 5 columns</p>\n",
       "</div>"
      ],
      "text/plain": [
       "                name      Male    Female  Intersex     Total\n",
       "0              Kenya  23548056  24014716    1524.0  47564296\n",
       "1            Mombasa    610257    598046      30.0   1208333\n",
       "2         Changamwe      68761     63121       NaN    131882\n",
       "3             Jomvu      83002     80410       3.0    163415\n",
       "4            Kisauni    146748    145176       6.0    291930\n",
       "..               ...       ...       ...       ...       ...\n",
       "388   Makadara           96369     93157      10.0    189536\n",
       "389   Mathare           106522    100028      14.0    206564\n",
       "390    Njiru            307642    318809      31.0    626482\n",
       "391   Starehe           109173    101238      12.0    210423\n",
       "392  Westlands          153818    155021      15.0    308854\n",
       "\n",
       "[393 rows x 5 columns]"
      ]
     },
     "execution_count": 20,
     "metadata": {},
     "output_type": "execute_result"
    }
   ],
   "source": [
    "df"
   ]
  },
  {
   "cell_type": "markdown",
   "id": "1d00cbcb",
   "metadata": {},
   "source": [
    "### Uderstanding the data"
   ]
  },
  {
   "cell_type": "code",
   "execution_count": 21,
   "id": "8c9f33a6",
   "metadata": {},
   "outputs": [
    {
     "data": {
      "text/html": [
       "<div>\n",
       "<style scoped>\n",
       "    .dataframe tbody tr th:only-of-type {\n",
       "        vertical-align: middle;\n",
       "    }\n",
       "\n",
       "    .dataframe tbody tr th {\n",
       "        vertical-align: top;\n",
       "    }\n",
       "\n",
       "    .dataframe thead th {\n",
       "        text-align: right;\n",
       "    }\n",
       "</style>\n",
       "<table border=\"1\" class=\"dataframe\">\n",
       "  <thead>\n",
       "    <tr style=\"text-align: right;\">\n",
       "      <th></th>\n",
       "      <th>name</th>\n",
       "      <th>Male</th>\n",
       "      <th>Female</th>\n",
       "      <th>Intersex</th>\n",
       "      <th>Total</th>\n",
       "    </tr>\n",
       "  </thead>\n",
       "  <tbody>\n",
       "    <tr>\n",
       "      <th>0</th>\n",
       "      <td>Kenya</td>\n",
       "      <td>23548056</td>\n",
       "      <td>24014716</td>\n",
       "      <td>1524.0</td>\n",
       "      <td>47564296</td>\n",
       "    </tr>\n",
       "    <tr>\n",
       "      <th>1</th>\n",
       "      <td>Mombasa</td>\n",
       "      <td>610257</td>\n",
       "      <td>598046</td>\n",
       "      <td>30.0</td>\n",
       "      <td>1208333</td>\n",
       "    </tr>\n",
       "    <tr>\n",
       "      <th>2</th>\n",
       "      <td>Changamwe</td>\n",
       "      <td>68761</td>\n",
       "      <td>63121</td>\n",
       "      <td>NaN</td>\n",
       "      <td>131882</td>\n",
       "    </tr>\n",
       "    <tr>\n",
       "      <th>3</th>\n",
       "      <td>Jomvu</td>\n",
       "      <td>83002</td>\n",
       "      <td>80410</td>\n",
       "      <td>3.0</td>\n",
       "      <td>163415</td>\n",
       "    </tr>\n",
       "    <tr>\n",
       "      <th>4</th>\n",
       "      <td>Kisauni</td>\n",
       "      <td>146748</td>\n",
       "      <td>145176</td>\n",
       "      <td>6.0</td>\n",
       "      <td>291930</td>\n",
       "    </tr>\n",
       "  </tbody>\n",
       "</table>\n",
       "</div>"
      ],
      "text/plain": [
       "         name      Male    Female  Intersex     Total\n",
       "0       Kenya  23548056  24014716    1524.0  47564296\n",
       "1     Mombasa    610257    598046      30.0   1208333\n",
       "2  Changamwe      68761     63121       NaN    131882\n",
       "3      Jomvu      83002     80410       3.0    163415\n",
       "4     Kisauni    146748    145176       6.0    291930"
      ]
     },
     "execution_count": 21,
     "metadata": {},
     "output_type": "execute_result"
    }
   ],
   "source": [
    "df.head()"
   ]
  },
  {
   "cell_type": "markdown",
   "id": "d4c309e6",
   "metadata": {},
   "source": [
    "### Describing the Data in terms of mean, count, standard deviation and min, max values"
   ]
  },
  {
   "cell_type": "code",
   "execution_count": 24,
   "id": "f1153e87",
   "metadata": {},
   "outputs": [
    {
     "data": {
      "text/html": [
       "<div>\n",
       "<style scoped>\n",
       "    .dataframe tbody tr th:only-of-type {\n",
       "        vertical-align: middle;\n",
       "    }\n",
       "\n",
       "    .dataframe tbody tr th {\n",
       "        vertical-align: top;\n",
       "    }\n",
       "\n",
       "    .dataframe thead th {\n",
       "        text-align: right;\n",
       "    }\n",
       "</style>\n",
       "<table border=\"1\" class=\"dataframe\">\n",
       "  <thead>\n",
       "    <tr style=\"text-align: right;\">\n",
       "      <th></th>\n",
       "      <th>Male</th>\n",
       "      <th>Female</th>\n",
       "      <th>Intersex</th>\n",
       "      <th>Total</th>\n",
       "    </tr>\n",
       "  </thead>\n",
       "  <tbody>\n",
       "    <tr>\n",
       "      <th>count</th>\n",
       "      <td>3.930000e+02</td>\n",
       "      <td>3.930000e+02</td>\n",
       "      <td>348.000000</td>\n",
       "      <td>3.930000e+02</td>\n",
       "    </tr>\n",
       "    <tr>\n",
       "      <th>mean</th>\n",
       "      <td>1.774661e+05</td>\n",
       "      <td>1.810284e+05</td>\n",
       "      <td>13.137931</td>\n",
       "      <td>3.630862e+05</td>\n",
       "    </tr>\n",
       "    <tr>\n",
       "      <th>std</th>\n",
       "      <td>1.195774e+06</td>\n",
       "      <td>1.219571e+06</td>\n",
       "      <td>83.126052</td>\n",
       "      <td>2.417116e+06</td>\n",
       "    </tr>\n",
       "    <tr>\n",
       "      <th>min</th>\n",
       "      <td>1.100000e+01</td>\n",
       "      <td>3.000000e+00</td>\n",
       "      <td>1.000000</td>\n",
       "      <td>1.500000e+01</td>\n",
       "    </tr>\n",
       "    <tr>\n",
       "      <th>25%</th>\n",
       "      <td>4.741000e+04</td>\n",
       "      <td>4.919000e+04</td>\n",
       "      <td>2.000000</td>\n",
       "      <td>9.687200e+04</td>\n",
       "    </tr>\n",
       "    <tr>\n",
       "      <th>50%</th>\n",
       "      <td>6.771500e+04</td>\n",
       "      <td>6.878200e+04</td>\n",
       "      <td>4.000000</td>\n",
       "      <td>1.360350e+05</td>\n",
       "    </tr>\n",
       "    <tr>\n",
       "      <th>75%</th>\n",
       "      <td>9.717400e+04</td>\n",
       "      <td>9.992200e+04</td>\n",
       "      <td>8.000000</td>\n",
       "      <td>1.974890e+05</td>\n",
       "    </tr>\n",
       "    <tr>\n",
       "      <th>max</th>\n",
       "      <td>2.354806e+07</td>\n",
       "      <td>2.401472e+07</td>\n",
       "      <td>1524.000000</td>\n",
       "      <td>4.756430e+07</td>\n",
       "    </tr>\n",
       "  </tbody>\n",
       "</table>\n",
       "</div>"
      ],
      "text/plain": [
       "               Male        Female     Intersex         Total\n",
       "count  3.930000e+02  3.930000e+02   348.000000  3.930000e+02\n",
       "mean   1.774661e+05  1.810284e+05    13.137931  3.630862e+05\n",
       "std    1.195774e+06  1.219571e+06    83.126052  2.417116e+06\n",
       "min    1.100000e+01  3.000000e+00     1.000000  1.500000e+01\n",
       "25%    4.741000e+04  4.919000e+04     2.000000  9.687200e+04\n",
       "50%    6.771500e+04  6.878200e+04     4.000000  1.360350e+05\n",
       "75%    9.717400e+04  9.992200e+04     8.000000  1.974890e+05\n",
       "max    2.354806e+07  2.401472e+07  1524.000000  4.756430e+07"
      ]
     },
     "execution_count": 24,
     "metadata": {},
     "output_type": "execute_result"
    }
   ],
   "source": [
    "df.describe()"
   ]
  },
  {
   "cell_type": "code",
   "execution_count": 25,
   "id": "59ba6325",
   "metadata": {},
   "outputs": [
    {
     "data": {
      "text/plain": [
       "Male        2.513400e+07\n",
       "Female      2.563361e+07\n",
       "Intersex    1.983264e+03\n",
       "Total       5.077530e+07\n",
       "dtype: float64"
      ]
     },
     "execution_count": 25,
     "metadata": {},
     "output_type": "execute_result"
    }
   ],
   "source": [
    "df.describe().sum()"
   ]
  },
  {
   "cell_type": "markdown",
   "id": "057c95c3",
   "metadata": {},
   "source": [
    "### Looking onto the rows and columns of the data"
   ]
  },
  {
   "cell_type": "code",
   "execution_count": 26,
   "id": "47eb5e1c",
   "metadata": {},
   "outputs": [
    {
     "data": {
      "text/plain": [
       "(393, 5)"
      ]
     },
     "execution_count": 26,
     "metadata": {},
     "output_type": "execute_result"
    }
   ],
   "source": [
    "df.shape"
   ]
  },
  {
   "cell_type": "markdown",
   "id": "5b558d0d",
   "metadata": {},
   "source": [
    "### Checking on the columns for the data"
   ]
  },
  {
   "cell_type": "code",
   "execution_count": 29,
   "id": "62378a28",
   "metadata": {},
   "outputs": [
    {
     "data": {
      "text/plain": [
       "Index(['name', 'Male', 'Female', 'Intersex', 'Total'], dtype='object')"
      ]
     },
     "execution_count": 29,
     "metadata": {},
     "output_type": "execute_result"
    }
   ],
   "source": [
    "df.columns"
   ]
  },
  {
   "cell_type": "markdown",
   "id": "81578336",
   "metadata": {},
   "source": [
    "### Checking for unique values in the data"
   ]
  },
  {
   "cell_type": "code",
   "execution_count": 33,
   "id": "d88e6427",
   "metadata": {},
   "outputs": [
    {
     "data": {
      "text/plain": [
       "name        386\n",
       "Male        392\n",
       "Female      390\n",
       "Intersex     42\n",
       "Total       393\n",
       "dtype: int64"
      ]
     },
     "execution_count": 33,
     "metadata": {},
     "output_type": "execute_result"
    }
   ],
   "source": [
    "df.nunique()"
   ]
  },
  {
   "cell_type": "markdown",
   "id": "2096b87e",
   "metadata": {},
   "source": [
    "### Checking for unique values per column"
   ]
  },
  {
   "cell_type": "code",
   "execution_count": 34,
   "id": "1d3eb015",
   "metadata": {},
   "outputs": [
    {
     "data": {
      "text/plain": [
       "array(['Kenya', 'Mombasa', 'Changamwe ', 'Jomvu ', 'Kisauni', 'Likoni ',\n",
       "       'Mvita ', 'Nyali ', 'Kwale  ', 'Kinango ', 'Lungalunga',\n",
       "       'Matuga      ', 'Ms am bweni    ', 'Samburu-Kwale     ',\n",
       "       'Kilifi       ', 'Chonyi      ', 'Ganze    .    ',\n",
       "       'Kaloleni.     ', 'Kauma      ', 'Kilifi North       ',\n",
       "       'Kilifi South    ', 'Magarini     ', 'Malindi        ',\n",
       "       'Rabai        ', 'Tana River      ', 'Tana North ',\n",
       "       'Tana Delta       ', 'Tana River       ', 'Lamu        ',\n",
       "       'Lamu East.    ', 'Lamu West.      ', 'Taita/Taveta     ',\n",
       "       'Mwatate     ', 'Taita         ', 'Taveta      ', 'Voi       ',\n",
       "       'Garissa       ', 'Balambala', 'Dadaab.      ', 'Fafi        ',\n",
       "       'Garissa      ', 'Hulugho      ', 'Ijara .      ', 'Lagdera    ',\n",
       "       'Wajir        ', 'Buna        ', 'Eldas       ', 'Habaswein     ',\n",
       "       'Tarbaj       ', 'Wajir East      ', 'Wajir North     ',\n",
       "       'Wajir South     ', 'Wajir West     ', 'Mandera       ',\n",
       "       'Mandera Wes t     .', 'Banisa       ', 'Kutulo       ',\n",
       "       'Lafey       ', 'Mandera Central     ', 'Mandera Eas t    ',\n",
       "       'Mandera North     .', 'Marsabit       ', 'Loiyangalani    ',\n",
       "       'Mars abit Central     ', 'Mars abit North     .',\n",
       "       'Mars abit South     .', 'Moyale       ', 'North Horr     ',\n",
       "       'Sololo       ', 'Isiolo        ', 'Garbatulla     ',\n",
       "       'Is iolo       ', 'Merti        ', 'Meru        ',\n",
       "       'Buuri East     ', 'Buuri West     ', 'Igem be Central     ',\n",
       "       'Igem be North    ', 'Igem be South    ', 'Im enti North    ',\n",
       "       'Im enti South    ', 'Meru Central    ', 'Tigania Central     ',\n",
       "       'Tigania East    ', 'Tigania West    ', 'Meru National Park*   ',\n",
       "       'Mt. Kenya Fores t*     ', 'Tharaka-Nithi     ',\n",
       "       \"Igam bang'om be     \", 'Maara       ', 'Meru South     ',\n",
       "       'Tharaka North     .', 'Tharaka South     .', 'Embu        ',\n",
       "       'Embu East     ', 'Embu North    ', 'Embu West     ',\n",
       "       'Mbeere South    ', 'Mbeere North    ', 'Kitui        ',\n",
       "       'Ikutha       ', 'Katulani      ', 'Kisasi       ',\n",
       "       'Kitui Central    ', 'Kitui West     ', 'Kyus o       ',\n",
       "       'Lower Yatta     ', 'Matinyani      ', 'Migwani      ',\n",
       "       'Mum oni      ', 'Mutitu       ', 'Mutitu North     ',\n",
       "       'Mutom o      ', 'Mwingi Central     .', 'Mwingi Eas t    ',\n",
       "       'Nzam bani     ', 'Thagicu      ', 'Tseikuru      ',\n",
       "       'Machakos      ', 'Athi River      ', 'Kalama      ',\n",
       "       'Kangundo     ', 'Kathiani      ', 'Mas inga      ',\n",
       "       'Matungulu     ', 'Mwala       ', 'Yatta       ', 'Makueni       ',\n",
       "       'Kathonzweni    ', 'Kibwezi      ', 'Kilungu      ',\n",
       "       'Makindu      ', 'Makueni      ', 'Mbooni Eas t    ',\n",
       "       'Mbooni Wes t    ', 'Mukaa       ', 'Nzaui       ',\n",
       "       'Nyandarua      ', 'Kinangop      ', 'Nyandarua South     ',\n",
       "       'Mirangine     ', 'Kipipiri       ', 'Nyandarua Central    ',\n",
       "       'Nyandarua Wes t     ', 'Nyandarua North     ',\n",
       "       'Aberdare National Park* ', 'Nyeri        ', 'Tetu        ',\n",
       "       'Kieni East     ', 'Kieni West     ', 'Mathira Eas t    ',\n",
       "       'Mathira Wes t    ', 'Nyeri South     ', 'Mukurwe-ini    ',\n",
       "       'Nyeri Central    ', 'Aberdare Fores t*     ', 'Kirinyaga       ',\n",
       "       'Kirinyaga Central     ', 'Kirinyaga East     .',\n",
       "       'Kirinyaga West     .', 'Mwea Eas t     ', 'Mwea Wes t     ',\n",
       "       \"Murang'a       \", \"Murang'a Eas t     .\", 'Kangema     ',\n",
       "       'Mathioya      ', 'Kahuro       ', \"Murang'a South     \",\n",
       "       'Gatanga      ', 'Kigumo      ', 'Kandara      ', 'Kiambu        ',\n",
       "       'Gatundu North    ', 'Gatundu South    ', 'Githunguri      ',\n",
       "       'Juja        ', 'Kabete       ', 'Kiambaa      ', 'Kiambu       ',\n",
       "       'Kikuyu       ', 'Lari        ', 'Limuru       ', 'Ruiru        ',\n",
       "       'Thika East      ', 'Thika West     ', 'Turkana       ',\n",
       "       'Kibish       ', 'Loima       ', 'Turkana Central     .',\n",
       "       'Turkana East    ', 'Turkana North    ', 'Turkana South    ',\n",
       "       'Turkana West    ', 'West Pokot      ', 'Kipkomo      ',\n",
       "       'Pokot Central    ', 'Pokot North     ', 'Pokot South     ',\n",
       "       'West Pokot     ', 'Samburu       ', 'Samburu Central     ',\n",
       "       'Samburu East    ', 'Samburu North     .', 'Trans Nzoia      ',\n",
       "       'Trans Nzoia West     ', 'Trans Nzoia East     ', 'Kwanza       ',\n",
       "       'Endebess      ', 'Kiminini       ', 'Uasin Gishu      ',\n",
       "       'Ainabkoi      ', 'Kapseret      ', 'Kesses       ',\n",
       "       'Moiben       ', 'Soy        ', 'Turbo        ',\n",
       "       'Elgeyo/Marakwet     .', 'Keiyo North     ', 'Keiyo South     ',\n",
       "       'Marakwet Eas t    ', 'Marakwet Wes t     .', 'Nandi        ',\n",
       "       'Chesumei      ', 'Nandi Central    ', 'Nandi East     ',\n",
       "       'Nandi North     ', 'Nandi South     ', 'Tinderet       ',\n",
       "       'Baringo       ', 'Baringo Central     .', 'Baringo North    ',\n",
       "       'East Pokot     ', 'Koibatek      ', 'Marigat       ',\n",
       "       'Mogotio       ', 'Tiaty East      ', 'Laikipia       ',\n",
       "       'Laikipia Central     .', 'Laikipia East     ',\n",
       "       'Laikipia North    ', 'Laikipia West    ', 'Nyahururu      ',\n",
       "       'Nakuru        ', 'Gilgil        ', 'Kuresoi North    ',\n",
       "       'Kuresoi South    ', 'Molo        ', 'Naivasha      ',\n",
       "       'Nakuru East     ', 'Nakuru North    ', 'Nakuru West    ',\n",
       "       'Njoro        ', 'Rongai       ', 'Subukia       ',\n",
       "       'Narok        ', 'Narok East     ', 'Narok North     ',\n",
       "       'Narok South     ', 'Narok West     ', 'Trans Mara East     ',\n",
       "       'Trans Mara West     ', 'Mau Fores t*     ', 'Kajiado        ',\n",
       "       'Is inya       ', 'Kajiado Central     .', 'Kajiado North    ',\n",
       "       'Kajiado West    ', 'Loitokitok      ', 'Mas huuru      ',\n",
       "       'Kericho       ', 'Belgut       ', 'Bureti       ',\n",
       "       'Kericho East     ', 'Kipkelion      ', 'Londiani      ',\n",
       "       'Soin Sigowet    ', 'Bomet        ', 'Bomet East     ',\n",
       "       'Chepalungu     ', 'Konoin       ', 'Sotik        ',\n",
       "       'Bomet Central    ', 'Kakamega      ', 'Butere       ',\n",
       "       'Kakamega Central    ', 'Kakamega East     .',\n",
       "       'Kakamega North     ', 'Kakamega South     ', 'Khwisero      ',\n",
       "       'Likuyani       ', 'Lugari       ', 'Matete       ',\n",
       "       'Matungu      ', 'Mum ias  Eas t    ', 'Mum ias  Wes t    ',\n",
       "       'Navakholo      ', 'Vihiga        ', 'Emuhaya      ',\n",
       "       'Vihiga       ', 'Sabatia       ', 'Luanda       ',\n",
       "       'Hamisi       ', 'Kakamega Forest*    ', 'Bungoma       ',\n",
       "       'Bumula       ', 'Bungoma Central     ', 'Bungoma East    ',\n",
       "       'Bungoma North     .', 'Bungoma South     ', 'Cheptais      ',\n",
       "       'Kimilili-Bungoma     ', 'Mt. Elgon      ', 'Bungoma West     .',\n",
       "       'Tongaren      ', 'Webuye West    ', 'Mt. Elgon Fores t*     ',\n",
       "       'Busia        ', 'Bunyala       ', 'Busia       ', 'Butula       ',\n",
       "       'Nambale      ', 'Samia       ', 'Teso North     ',\n",
       "       'Teso South     ', 'Siaya        ', 'Gem        ', 'Ugenya       ',\n",
       "       'Ugunja       ', 'Bondo       ', 'Rarieda       ',\n",
       "       'Kisumu        ', 'Kisumu East    ', 'Kisumu Central     .',\n",
       "       'Kisumu West    ', 'Seme       ', 'Muhoroni      ',\n",
       "       'Nyando       ', 'Nyakach      ', 'Homa Bay       ',\n",
       "       'Homa Bay      ', 'Ndhiwa       ', 'Rachuonyo North     ',\n",
       "       'Rachuonyo East     ', 'Rachuonyo South     ', 'Rangwe       ',\n",
       "       'Suba North     ', 'Suba South     ', 'Migori        ',\n",
       "       'Awendo       ', 'Kuria East      ', 'Kuria West     ',\n",
       "       'Nyatike       ', 'Rongo       ', 'Suna East      ',\n",
       "       'Suna West     ', 'Uriri        ', 'Kisii        ', 'Etago       ',\n",
       "       'Gucha       ', 'Gucha South    ', 'Kenyenya      ',\n",
       "       'Kisii Central     ', 'Kisii South     ', 'Kitutu Central    ',\n",
       "       'Marani       ', 'Mas aba South    ', 'Nyam ache     ',\n",
       "       'Sameta       ', 'Nyamira       ', 'Borabu       ', 'Manga       ',\n",
       "       'Mas aba North    ', 'Nyam ira North    ', 'Nyam ira South    ',\n",
       "       'Nairobi City      ', 'Dagoretti      ', 'Embakasi      ',\n",
       "       'Kamukunji     ', 'Kasarani      ', 'Kibra        ',\n",
       "       \"Lang'ata      \", 'Makadara      ', 'Mathare       ',\n",
       "       'Njiru        ', 'Starehe       ', 'Westlands      '], dtype=object)"
      ]
     },
     "execution_count": 34,
     "metadata": {},
     "output_type": "execute_result"
    }
   ],
   "source": [
    "df['name'].unique()"
   ]
  },
  {
   "cell_type": "code",
   "execution_count": 35,
   "id": "cda41646",
   "metadata": {},
   "outputs": [
    {
     "data": {
      "text/plain": [
       "array([1.524e+03, 3.000e+01,       nan, 3.000e+00, 6.000e+00, 4.000e+00,\n",
       "       5.000e+00, 1.200e+01, 1.800e+01, 1.000e+00, 2.000e+00, 7.000e+00,\n",
       "       2.500e+01, 9.000e+00, 3.400e+01, 8.000e+00, 1.000e+01, 4.900e+01,\n",
       "       1.600e+01, 3.700e+01, 1.100e+01, 4.100e+01, 2.400e+01, 3.300e+01,\n",
       "       2.000e+01, 3.100e+01, 1.350e+02, 2.200e+01, 1.400e+01, 1.500e+01,\n",
       "       1.700e+01, 2.100e+01, 2.800e+01, 1.300e+01, 9.500e+01, 2.900e+01,\n",
       "       2.600e+01, 3.800e+01, 2.300e+01, 4.000e+01, 3.500e+01, 2.450e+02,\n",
       "       6.200e+01])"
      ]
     },
     "execution_count": 35,
     "metadata": {},
     "output_type": "execute_result"
    }
   ],
   "source": [
    "df['Intersex'].unique()"
   ]
  },
  {
   "cell_type": "markdown",
   "id": "59322ffb",
   "metadata": {},
   "source": [
    "## CLEANING THE DATA"
   ]
  },
  {
   "cell_type": "markdown",
   "id": "051e25fd",
   "metadata": {},
   "source": [
    "### Checking for a series of boolean null values"
   ]
  },
  {
   "cell_type": "code",
   "execution_count": 36,
   "id": "e2b49e5e",
   "metadata": {},
   "outputs": [
    {
     "data": {
      "text/html": [
       "<div>\n",
       "<style scoped>\n",
       "    .dataframe tbody tr th:only-of-type {\n",
       "        vertical-align: middle;\n",
       "    }\n",
       "\n",
       "    .dataframe tbody tr th {\n",
       "        vertical-align: top;\n",
       "    }\n",
       "\n",
       "    .dataframe thead th {\n",
       "        text-align: right;\n",
       "    }\n",
       "</style>\n",
       "<table border=\"1\" class=\"dataframe\">\n",
       "  <thead>\n",
       "    <tr style=\"text-align: right;\">\n",
       "      <th></th>\n",
       "      <th>name</th>\n",
       "      <th>Male</th>\n",
       "      <th>Female</th>\n",
       "      <th>Intersex</th>\n",
       "      <th>Total</th>\n",
       "    </tr>\n",
       "  </thead>\n",
       "  <tbody>\n",
       "    <tr>\n",
       "      <th>0</th>\n",
       "      <td>False</td>\n",
       "      <td>False</td>\n",
       "      <td>False</td>\n",
       "      <td>False</td>\n",
       "      <td>False</td>\n",
       "    </tr>\n",
       "    <tr>\n",
       "      <th>1</th>\n",
       "      <td>False</td>\n",
       "      <td>False</td>\n",
       "      <td>False</td>\n",
       "      <td>False</td>\n",
       "      <td>False</td>\n",
       "    </tr>\n",
       "    <tr>\n",
       "      <th>2</th>\n",
       "      <td>False</td>\n",
       "      <td>False</td>\n",
       "      <td>False</td>\n",
       "      <td>True</td>\n",
       "      <td>False</td>\n",
       "    </tr>\n",
       "    <tr>\n",
       "      <th>3</th>\n",
       "      <td>False</td>\n",
       "      <td>False</td>\n",
       "      <td>False</td>\n",
       "      <td>False</td>\n",
       "      <td>False</td>\n",
       "    </tr>\n",
       "    <tr>\n",
       "      <th>4</th>\n",
       "      <td>False</td>\n",
       "      <td>False</td>\n",
       "      <td>False</td>\n",
       "      <td>False</td>\n",
       "      <td>False</td>\n",
       "    </tr>\n",
       "    <tr>\n",
       "      <th>...</th>\n",
       "      <td>...</td>\n",
       "      <td>...</td>\n",
       "      <td>...</td>\n",
       "      <td>...</td>\n",
       "      <td>...</td>\n",
       "    </tr>\n",
       "    <tr>\n",
       "      <th>388</th>\n",
       "      <td>False</td>\n",
       "      <td>False</td>\n",
       "      <td>False</td>\n",
       "      <td>False</td>\n",
       "      <td>False</td>\n",
       "    </tr>\n",
       "    <tr>\n",
       "      <th>389</th>\n",
       "      <td>False</td>\n",
       "      <td>False</td>\n",
       "      <td>False</td>\n",
       "      <td>False</td>\n",
       "      <td>False</td>\n",
       "    </tr>\n",
       "    <tr>\n",
       "      <th>390</th>\n",
       "      <td>False</td>\n",
       "      <td>False</td>\n",
       "      <td>False</td>\n",
       "      <td>False</td>\n",
       "      <td>False</td>\n",
       "    </tr>\n",
       "    <tr>\n",
       "      <th>391</th>\n",
       "      <td>False</td>\n",
       "      <td>False</td>\n",
       "      <td>False</td>\n",
       "      <td>False</td>\n",
       "      <td>False</td>\n",
       "    </tr>\n",
       "    <tr>\n",
       "      <th>392</th>\n",
       "      <td>False</td>\n",
       "      <td>False</td>\n",
       "      <td>False</td>\n",
       "      <td>False</td>\n",
       "      <td>False</td>\n",
       "    </tr>\n",
       "  </tbody>\n",
       "</table>\n",
       "<p>393 rows × 5 columns</p>\n",
       "</div>"
      ],
      "text/plain": [
       "      name   Male  Female  Intersex  Total\n",
       "0    False  False   False     False  False\n",
       "1    False  False   False     False  False\n",
       "2    False  False   False      True  False\n",
       "3    False  False   False     False  False\n",
       "4    False  False   False     False  False\n",
       "..     ...    ...     ...       ...    ...\n",
       "388  False  False   False     False  False\n",
       "389  False  False   False     False  False\n",
       "390  False  False   False     False  False\n",
       "391  False  False   False     False  False\n",
       "392  False  False   False     False  False\n",
       "\n",
       "[393 rows x 5 columns]"
      ]
     },
     "execution_count": 36,
     "metadata": {},
     "output_type": "execute_result"
    }
   ],
   "source": [
    "df.isnull()"
   ]
  },
  {
   "cell_type": "markdown",
   "id": "ab4641cc",
   "metadata": {},
   "source": [
    "## Null Values"
   ]
  },
  {
   "cell_type": "markdown",
   "id": "669cb6ab",
   "metadata": {},
   "source": [
    "### checking for the sum of the null values"
   ]
  },
  {
   "cell_type": "code",
   "execution_count": 37,
   "id": "07edfa8d",
   "metadata": {},
   "outputs": [
    {
     "data": {
      "text/plain": [
       "name         0\n",
       "Male         0\n",
       "Female       0\n",
       "Intersex    45\n",
       "Total        0\n",
       "dtype: int64"
      ]
     },
     "execution_count": 37,
     "metadata": {},
     "output_type": "execute_result"
    }
   ],
   "source": [
    "df.isnull().sum()"
   ]
  },
  {
   "cell_type": "markdown",
   "id": "97f0a0bd",
   "metadata": {},
   "source": [
    "### Creating a list of null values"
   ]
  },
  {
   "cell_type": "code",
   "execution_count": 60,
   "id": "6c04d03d",
   "metadata": {},
   "outputs": [],
   "source": [
    "missing_values=[\"N/a\",\"Na\",np.nan]"
   ]
  },
  {
   "cell_type": "code",
   "execution_count": 62,
   "id": "17c8ae65",
   "metadata": {},
   "outputs": [],
   "source": [
    "df=pd.read_csv(\"kenyan pop.csv\", na_values = missing_values)"
   ]
  },
  {
   "cell_type": "code",
   "execution_count": 63,
   "id": "16c2b67c",
   "metadata": {},
   "outputs": [
    {
     "data": {
      "text/html": [
       "<div>\n",
       "<style scoped>\n",
       "    .dataframe tbody tr th:only-of-type {\n",
       "        vertical-align: middle;\n",
       "    }\n",
       "\n",
       "    .dataframe tbody tr th {\n",
       "        vertical-align: top;\n",
       "    }\n",
       "\n",
       "    .dataframe thead th {\n",
       "        text-align: right;\n",
       "    }\n",
       "</style>\n",
       "<table border=\"1\" class=\"dataframe\">\n",
       "  <thead>\n",
       "    <tr style=\"text-align: right;\">\n",
       "      <th></th>\n",
       "      <th>name</th>\n",
       "      <th>Male</th>\n",
       "      <th>Female</th>\n",
       "      <th>Intersex</th>\n",
       "      <th>Total</th>\n",
       "    </tr>\n",
       "  </thead>\n",
       "  <tbody>\n",
       "    <tr>\n",
       "      <th>0</th>\n",
       "      <td>Kenya</td>\n",
       "      <td>23548056</td>\n",
       "      <td>24014716</td>\n",
       "      <td>1524.0</td>\n",
       "      <td>47564296</td>\n",
       "    </tr>\n",
       "    <tr>\n",
       "      <th>1</th>\n",
       "      <td>Mombasa</td>\n",
       "      <td>610257</td>\n",
       "      <td>598046</td>\n",
       "      <td>30.0</td>\n",
       "      <td>1208333</td>\n",
       "    </tr>\n",
       "    <tr>\n",
       "      <th>2</th>\n",
       "      <td>Changamwe</td>\n",
       "      <td>68761</td>\n",
       "      <td>63121</td>\n",
       "      <td>NaN</td>\n",
       "      <td>131882</td>\n",
       "    </tr>\n",
       "    <tr>\n",
       "      <th>3</th>\n",
       "      <td>Jomvu</td>\n",
       "      <td>83002</td>\n",
       "      <td>80410</td>\n",
       "      <td>3.0</td>\n",
       "      <td>163415</td>\n",
       "    </tr>\n",
       "    <tr>\n",
       "      <th>4</th>\n",
       "      <td>Kisauni</td>\n",
       "      <td>146748</td>\n",
       "      <td>145176</td>\n",
       "      <td>6.0</td>\n",
       "      <td>291930</td>\n",
       "    </tr>\n",
       "    <tr>\n",
       "      <th>...</th>\n",
       "      <td>...</td>\n",
       "      <td>...</td>\n",
       "      <td>...</td>\n",
       "      <td>...</td>\n",
       "      <td>...</td>\n",
       "    </tr>\n",
       "    <tr>\n",
       "      <th>388</th>\n",
       "      <td>Makadara</td>\n",
       "      <td>96369</td>\n",
       "      <td>93157</td>\n",
       "      <td>10.0</td>\n",
       "      <td>189536</td>\n",
       "    </tr>\n",
       "    <tr>\n",
       "      <th>389</th>\n",
       "      <td>Mathare</td>\n",
       "      <td>106522</td>\n",
       "      <td>100028</td>\n",
       "      <td>14.0</td>\n",
       "      <td>206564</td>\n",
       "    </tr>\n",
       "    <tr>\n",
       "      <th>390</th>\n",
       "      <td>Njiru</td>\n",
       "      <td>307642</td>\n",
       "      <td>318809</td>\n",
       "      <td>31.0</td>\n",
       "      <td>626482</td>\n",
       "    </tr>\n",
       "    <tr>\n",
       "      <th>391</th>\n",
       "      <td>Starehe</td>\n",
       "      <td>109173</td>\n",
       "      <td>101238</td>\n",
       "      <td>12.0</td>\n",
       "      <td>210423</td>\n",
       "    </tr>\n",
       "    <tr>\n",
       "      <th>392</th>\n",
       "      <td>Westlands</td>\n",
       "      <td>153818</td>\n",
       "      <td>155021</td>\n",
       "      <td>15.0</td>\n",
       "      <td>308854</td>\n",
       "    </tr>\n",
       "  </tbody>\n",
       "</table>\n",
       "<p>393 rows × 5 columns</p>\n",
       "</div>"
      ],
      "text/plain": [
       "                name      Male    Female  Intersex     Total\n",
       "0              Kenya  23548056  24014716    1524.0  47564296\n",
       "1            Mombasa    610257    598046      30.0   1208333\n",
       "2         Changamwe      68761     63121       NaN    131882\n",
       "3             Jomvu      83002     80410       3.0    163415\n",
       "4            Kisauni    146748    145176       6.0    291930\n",
       "..               ...       ...       ...       ...       ...\n",
       "388   Makadara           96369     93157      10.0    189536\n",
       "389   Mathare           106522    100028      14.0    206564\n",
       "390    Njiru            307642    318809      31.0    626482\n",
       "391   Starehe           109173    101238      12.0    210423\n",
       "392  Westlands          153818    155021      15.0    308854\n",
       "\n",
       "[393 rows x 5 columns]"
      ]
     },
     "execution_count": 63,
     "metadata": {},
     "output_type": "execute_result"
    }
   ],
   "source": [
    "df"
   ]
  },
  {
   "cell_type": "markdown",
   "id": "153a7b46",
   "metadata": {},
   "source": [
    "### Checking for any null value"
   ]
  },
  {
   "cell_type": "code",
   "execution_count": 64,
   "id": "3573c613",
   "metadata": {},
   "outputs": [
    {
     "data": {
      "text/plain": [
       "<bound method NDFrame._add_numeric_operations.<locals>.any of       name   Male  Female  Intersex  Total\n",
       "0    False  False   False     False  False\n",
       "1    False  False   False     False  False\n",
       "2    False  False   False      True  False\n",
       "3    False  False   False     False  False\n",
       "4    False  False   False     False  False\n",
       "..     ...    ...     ...       ...    ...\n",
       "388  False  False   False     False  False\n",
       "389  False  False   False     False  False\n",
       "390  False  False   False     False  False\n",
       "391  False  False   False     False  False\n",
       "392  False  False   False     False  False\n",
       "\n",
       "[393 rows x 5 columns]>"
      ]
     },
     "execution_count": 64,
     "metadata": {},
     "output_type": "execute_result"
    }
   ],
   "source": [
    "df.isnull().any"
   ]
  },
  {
   "cell_type": "markdown",
   "id": "1e7075b8",
   "metadata": {},
   "source": [
    "## data visualization"
   ]
  },
  {
   "cell_type": "markdown",
   "id": "1e15a6c2",
   "metadata": {},
   "source": [
    "## Show null values "
   ]
  },
  {
   "cell_type": "code",
   "execution_count": 65,
   "id": "bb1a6a82",
   "metadata": {},
   "outputs": [
    {
     "data": {
      "text/plain": [
       "<AxesSubplot:>"
      ]
     },
     "execution_count": 65,
     "metadata": {},
     "output_type": "execute_result"
    },
    {
     "data": {
      "image/png": "[encoded data removed]",
      "text/plain": [
       "<Figure size 432x288 with 2 Axes>"
      ]
     },
     "metadata": {
      "needs_background": "light"
     },
     "output_type": "display_data"
    }
   ],
   "source": [
    "sns.heatmap(df.isnull(),yticklabels=False)"
   ]
  },
  {
   "cell_type": "markdown",
   "id": "66ef73e4",
   "metadata": {},
   "source": [
    "## Dropping Null values"
   ]
  },
  {
   "cell_type": "code",
   "execution_count": 66,
   "id": "303fb824",
   "metadata": {},
   "outputs": [
    {
     "data": {
      "text/html": [
       "<div>\n",
       "<style scoped>\n",
       "    .dataframe tbody tr th:only-of-type {\n",
       "        vertical-align: middle;\n",
       "    }\n",
       "\n",
       "    .dataframe tbody tr th {\n",
       "        vertical-align: top;\n",
       "    }\n",
       "\n",
       "    .dataframe thead th {\n",
       "        text-align: right;\n",
       "    }\n",
       "</style>\n",
       "<table border=\"1\" class=\"dataframe\">\n",
       "  <thead>\n",
       "    <tr style=\"text-align: right;\">\n",
       "      <th></th>\n",
       "      <th>name</th>\n",
       "      <th>Male</th>\n",
       "      <th>Female</th>\n",
       "      <th>Intersex</th>\n",
       "      <th>Total</th>\n",
       "    </tr>\n",
       "  </thead>\n",
       "  <tbody>\n",
       "    <tr>\n",
       "      <th>0</th>\n",
       "      <td>Kenya</td>\n",
       "      <td>23548056</td>\n",
       "      <td>24014716</td>\n",
       "      <td>1524.0</td>\n",
       "      <td>47564296</td>\n",
       "    </tr>\n",
       "    <tr>\n",
       "      <th>1</th>\n",
       "      <td>Mombasa</td>\n",
       "      <td>610257</td>\n",
       "      <td>598046</td>\n",
       "      <td>30.0</td>\n",
       "      <td>1208333</td>\n",
       "    </tr>\n",
       "    <tr>\n",
       "      <th>3</th>\n",
       "      <td>Jomvu</td>\n",
       "      <td>83002</td>\n",
       "      <td>80410</td>\n",
       "      <td>3.0</td>\n",
       "      <td>163415</td>\n",
       "    </tr>\n",
       "    <tr>\n",
       "      <th>4</th>\n",
       "      <td>Kisauni</td>\n",
       "      <td>146748</td>\n",
       "      <td>145176</td>\n",
       "      <td>6.0</td>\n",
       "      <td>291930</td>\n",
       "    </tr>\n",
       "    <tr>\n",
       "      <th>5</th>\n",
       "      <td>Likoni</td>\n",
       "      <td>126962</td>\n",
       "      <td>123392</td>\n",
       "      <td>4.0</td>\n",
       "      <td>250358</td>\n",
       "    </tr>\n",
       "    <tr>\n",
       "      <th>...</th>\n",
       "      <td>...</td>\n",
       "      <td>...</td>\n",
       "      <td>...</td>\n",
       "      <td>...</td>\n",
       "      <td>...</td>\n",
       "    </tr>\n",
       "    <tr>\n",
       "      <th>388</th>\n",
       "      <td>Makadara</td>\n",
       "      <td>96369</td>\n",
       "      <td>93157</td>\n",
       "      <td>10.0</td>\n",
       "      <td>189536</td>\n",
       "    </tr>\n",
       "    <tr>\n",
       "      <th>389</th>\n",
       "      <td>Mathare</td>\n",
       "      <td>106522</td>\n",
       "      <td>100028</td>\n",
       "      <td>14.0</td>\n",
       "      <td>206564</td>\n",
       "    </tr>\n",
       "    <tr>\n",
       "      <th>390</th>\n",
       "      <td>Njiru</td>\n",
       "      <td>307642</td>\n",
       "      <td>318809</td>\n",
       "      <td>31.0</td>\n",
       "      <td>626482</td>\n",
       "    </tr>\n",
       "    <tr>\n",
       "      <th>391</th>\n",
       "      <td>Starehe</td>\n",
       "      <td>109173</td>\n",
       "      <td>101238</td>\n",
       "      <td>12.0</td>\n",
       "      <td>210423</td>\n",
       "    </tr>\n",
       "    <tr>\n",
       "      <th>392</th>\n",
       "      <td>Westlands</td>\n",
       "      <td>153818</td>\n",
       "      <td>155021</td>\n",
       "      <td>15.0</td>\n",
       "      <td>308854</td>\n",
       "    </tr>\n",
       "  </tbody>\n",
       "</table>\n",
       "<p>348 rows × 5 columns</p>\n",
       "</div>"
      ],
      "text/plain": [
       "                name      Male    Female  Intersex     Total\n",
       "0              Kenya  23548056  24014716    1524.0  47564296\n",
       "1            Mombasa    610257    598046      30.0   1208333\n",
       "3             Jomvu      83002     80410       3.0    163415\n",
       "4            Kisauni    146748    145176       6.0    291930\n",
       "5            Likoni     126962    123392       4.0    250358\n",
       "..               ...       ...       ...       ...       ...\n",
       "388   Makadara           96369     93157      10.0    189536\n",
       "389   Mathare           106522    100028      14.0    206564\n",
       "390    Njiru            307642    318809      31.0    626482\n",
       "391   Starehe           109173    101238      12.0    210423\n",
       "392  Westlands          153818    155021      15.0    308854\n",
       "\n",
       "[348 rows x 5 columns]"
      ]
     },
     "execution_count": 66,
     "metadata": {},
     "output_type": "execute_result"
    }
   ],
   "source": [
    "df.dropna()"
   ]
  },
  {
   "cell_type": "markdown",
   "id": "b55e67e8",
   "metadata": {},
   "source": [
    "### Filling the null values"
   ]
  },
  {
   "cell_type": "code",
   "execution_count": 67,
   "id": "43d4ed44",
   "metadata": {},
   "outputs": [
    {
     "data": {
      "text/html": [
       "<div>\n",
       "<style scoped>\n",
       "    .dataframe tbody tr th:only-of-type {\n",
       "        vertical-align: middle;\n",
       "    }\n",
       "\n",
       "    .dataframe tbody tr th {\n",
       "        vertical-align: top;\n",
       "    }\n",
       "\n",
       "    .dataframe thead th {\n",
       "        text-align: right;\n",
       "    }\n",
       "</style>\n",
       "<table border=\"1\" class=\"dataframe\">\n",
       "  <thead>\n",
       "    <tr style=\"text-align: right;\">\n",
       "      <th></th>\n",
       "      <th>name</th>\n",
       "      <th>Male</th>\n",
       "      <th>Female</th>\n",
       "      <th>Intersex</th>\n",
       "      <th>Total</th>\n",
       "    </tr>\n",
       "  </thead>\n",
       "  <tbody>\n",
       "    <tr>\n",
       "      <th>0</th>\n",
       "      <td>Kenya</td>\n",
       "      <td>23548056</td>\n",
       "      <td>24014716</td>\n",
       "      <td>1524.0</td>\n",
       "      <td>47564296</td>\n",
       "    </tr>\n",
       "    <tr>\n",
       "      <th>1</th>\n",
       "      <td>Mombasa</td>\n",
       "      <td>610257</td>\n",
       "      <td>598046</td>\n",
       "      <td>30.0</td>\n",
       "      <td>1208333</td>\n",
       "    </tr>\n",
       "    <tr>\n",
       "      <th>2</th>\n",
       "      <td>Changamwe</td>\n",
       "      <td>68761</td>\n",
       "      <td>63121</td>\n",
       "      <td>30.0</td>\n",
       "      <td>131882</td>\n",
       "    </tr>\n",
       "    <tr>\n",
       "      <th>3</th>\n",
       "      <td>Jomvu</td>\n",
       "      <td>83002</td>\n",
       "      <td>80410</td>\n",
       "      <td>3.0</td>\n",
       "      <td>163415</td>\n",
       "    </tr>\n",
       "    <tr>\n",
       "      <th>4</th>\n",
       "      <td>Kisauni</td>\n",
       "      <td>146748</td>\n",
       "      <td>145176</td>\n",
       "      <td>6.0</td>\n",
       "      <td>291930</td>\n",
       "    </tr>\n",
       "    <tr>\n",
       "      <th>...</th>\n",
       "      <td>...</td>\n",
       "      <td>...</td>\n",
       "      <td>...</td>\n",
       "      <td>...</td>\n",
       "      <td>...</td>\n",
       "    </tr>\n",
       "    <tr>\n",
       "      <th>388</th>\n",
       "      <td>Makadara</td>\n",
       "      <td>96369</td>\n",
       "      <td>93157</td>\n",
       "      <td>10.0</td>\n",
       "      <td>189536</td>\n",
       "    </tr>\n",
       "    <tr>\n",
       "      <th>389</th>\n",
       "      <td>Mathare</td>\n",
       "      <td>106522</td>\n",
       "      <td>100028</td>\n",
       "      <td>14.0</td>\n",
       "      <td>206564</td>\n",
       "    </tr>\n",
       "    <tr>\n",
       "      <th>390</th>\n",
       "      <td>Njiru</td>\n",
       "      <td>307642</td>\n",
       "      <td>318809</td>\n",
       "      <td>31.0</td>\n",
       "      <td>626482</td>\n",
       "    </tr>\n",
       "    <tr>\n",
       "      <th>391</th>\n",
       "      <td>Starehe</td>\n",
       "      <td>109173</td>\n",
       "      <td>101238</td>\n",
       "      <td>12.0</td>\n",
       "      <td>210423</td>\n",
       "    </tr>\n",
       "    <tr>\n",
       "      <th>392</th>\n",
       "      <td>Westlands</td>\n",
       "      <td>153818</td>\n",
       "      <td>155021</td>\n",
       "      <td>15.0</td>\n",
       "      <td>308854</td>\n",
       "    </tr>\n",
       "  </tbody>\n",
       "</table>\n",
       "<p>393 rows × 5 columns</p>\n",
       "</div>"
      ],
      "text/plain": [
       "                name      Male    Female  Intersex     Total\n",
       "0              Kenya  23548056  24014716    1524.0  47564296\n",
       "1            Mombasa    610257    598046      30.0   1208333\n",
       "2         Changamwe      68761     63121      30.0    131882\n",
       "3             Jomvu      83002     80410       3.0    163415\n",
       "4            Kisauni    146748    145176       6.0    291930\n",
       "..               ...       ...       ...       ...       ...\n",
       "388   Makadara           96369     93157      10.0    189536\n",
       "389   Mathare           106522    100028      14.0    206564\n",
       "390    Njiru            307642    318809      31.0    626482\n",
       "391   Starehe           109173    101238      12.0    210423\n",
       "392  Westlands          153818    155021      15.0    308854\n",
       "\n",
       "[393 rows x 5 columns]"
      ]
     },
     "execution_count": 67,
     "metadata": {},
     "output_type": "execute_result"
    }
   ],
   "source": [
    "df.fillna(method='ffill')"
   ]
  },
  {
   "cell_type": "markdown",
   "id": "5f5d3f0e",
   "metadata": {},
   "source": [
    "### Filling through interpolation"
   ]
  },
  {
   "cell_type": "code",
   "execution_count": 68,
   "id": "7f886481",
   "metadata": {},
   "outputs": [
    {
     "data": {
      "text/html": [
       "<div>\n",
       "<style scoped>\n",
       "    .dataframe tbody tr th:only-of-type {\n",
       "        vertical-align: middle;\n",
       "    }\n",
       "\n",
       "    .dataframe tbody tr th {\n",
       "        vertical-align: top;\n",
       "    }\n",
       "\n",
       "    .dataframe thead th {\n",
       "        text-align: right;\n",
       "    }\n",
       "</style>\n",
       "<table border=\"1\" class=\"dataframe\">\n",
       "  <thead>\n",
       "    <tr style=\"text-align: right;\">\n",
       "      <th></th>\n",
       "      <th>name</th>\n",
       "      <th>Male</th>\n",
       "      <th>Female</th>\n",
       "      <th>Intersex</th>\n",
       "      <th>Total</th>\n",
       "    </tr>\n",
       "  </thead>\n",
       "  <tbody>\n",
       "    <tr>\n",
       "      <th>0</th>\n",
       "      <td>Kenya</td>\n",
       "      <td>23548056</td>\n",
       "      <td>24014716</td>\n",
       "      <td>1524.0</td>\n",
       "      <td>47564296</td>\n",
       "    </tr>\n",
       "    <tr>\n",
       "      <th>1</th>\n",
       "      <td>Mombasa</td>\n",
       "      <td>610257</td>\n",
       "      <td>598046</td>\n",
       "      <td>30.0</td>\n",
       "      <td>1208333</td>\n",
       "    </tr>\n",
       "    <tr>\n",
       "      <th>2</th>\n",
       "      <td>Changamwe</td>\n",
       "      <td>68761</td>\n",
       "      <td>63121</td>\n",
       "      <td>16.5</td>\n",
       "      <td>131882</td>\n",
       "    </tr>\n",
       "    <tr>\n",
       "      <th>3</th>\n",
       "      <td>Jomvu</td>\n",
       "      <td>83002</td>\n",
       "      <td>80410</td>\n",
       "      <td>3.0</td>\n",
       "      <td>163415</td>\n",
       "    </tr>\n",
       "    <tr>\n",
       "      <th>4</th>\n",
       "      <td>Kisauni</td>\n",
       "      <td>146748</td>\n",
       "      <td>145176</td>\n",
       "      <td>6.0</td>\n",
       "      <td>291930</td>\n",
       "    </tr>\n",
       "    <tr>\n",
       "      <th>...</th>\n",
       "      <td>...</td>\n",
       "      <td>...</td>\n",
       "      <td>...</td>\n",
       "      <td>...</td>\n",
       "      <td>...</td>\n",
       "    </tr>\n",
       "    <tr>\n",
       "      <th>388</th>\n",
       "      <td>Makadara</td>\n",
       "      <td>96369</td>\n",
       "      <td>93157</td>\n",
       "      <td>10.0</td>\n",
       "      <td>189536</td>\n",
       "    </tr>\n",
       "    <tr>\n",
       "      <th>389</th>\n",
       "      <td>Mathare</td>\n",
       "      <td>106522</td>\n",
       "      <td>100028</td>\n",
       "      <td>14.0</td>\n",
       "      <td>206564</td>\n",
       "    </tr>\n",
       "    <tr>\n",
       "      <th>390</th>\n",
       "      <td>Njiru</td>\n",
       "      <td>307642</td>\n",
       "      <td>318809</td>\n",
       "      <td>31.0</td>\n",
       "      <td>626482</td>\n",
       "    </tr>\n",
       "    <tr>\n",
       "      <th>391</th>\n",
       "      <td>Starehe</td>\n",
       "      <td>109173</td>\n",
       "      <td>101238</td>\n",
       "      <td>12.0</td>\n",
       "      <td>210423</td>\n",
       "    </tr>\n",
       "    <tr>\n",
       "      <th>392</th>\n",
       "      <td>Westlands</td>\n",
       "      <td>153818</td>\n",
       "      <td>155021</td>\n",
       "      <td>15.0</td>\n",
       "      <td>308854</td>\n",
       "    </tr>\n",
       "  </tbody>\n",
       "</table>\n",
       "<p>393 rows × 5 columns</p>\n",
       "</div>"
      ],
      "text/plain": [
       "                name      Male    Female  Intersex     Total\n",
       "0              Kenya  23548056  24014716    1524.0  47564296\n",
       "1            Mombasa    610257    598046      30.0   1208333\n",
       "2         Changamwe      68761     63121      16.5    131882\n",
       "3             Jomvu      83002     80410       3.0    163415\n",
       "4            Kisauni    146748    145176       6.0    291930\n",
       "..               ...       ...       ...       ...       ...\n",
       "388   Makadara           96369     93157      10.0    189536\n",
       "389   Mathare           106522    100028      14.0    206564\n",
       "390    Njiru            307642    318809      31.0    626482\n",
       "391   Starehe           109173    101238      12.0    210423\n",
       "392  Westlands          153818    155021      15.0    308854\n",
       "\n",
       "[393 rows x 5 columns]"
      ]
     },
     "execution_count": 68,
     "metadata": {},
     "output_type": "execute_result"
    }
   ],
   "source": [
    "df.interpolate()"
   ]
  },
  {
   "cell_type": "markdown",
   "id": "324dade6",
   "metadata": {},
   "source": [
    "### Dropping unwanted columns "
   ]
  },
  {
   "cell_type": "code",
   "execution_count": 43,
   "id": "cd0bcda2",
   "metadata": {},
   "outputs": [
    {
     "data": {
      "text/html": [
       "<div>\n",
       "<style scoped>\n",
       "    .dataframe tbody tr th:only-of-type {\n",
       "        vertical-align: middle;\n",
       "    }\n",
       "\n",
       "    .dataframe tbody tr th {\n",
       "        vertical-align: top;\n",
       "    }\n",
       "\n",
       "    .dataframe thead th {\n",
       "        text-align: right;\n",
       "    }\n",
       "</style>\n",
       "<table border=\"1\" class=\"dataframe\">\n",
       "  <thead>\n",
       "    <tr style=\"text-align: right;\">\n",
       "      <th></th>\n",
       "      <th>name</th>\n",
       "      <th>Intersex</th>\n",
       "      <th>Total</th>\n",
       "    </tr>\n",
       "  </thead>\n",
       "  <tbody>\n",
       "    <tr>\n",
       "      <th>0</th>\n",
       "      <td>Kenya</td>\n",
       "      <td>1524.0</td>\n",
       "      <td>47564296</td>\n",
       "    </tr>\n",
       "    <tr>\n",
       "      <th>1</th>\n",
       "      <td>Mombasa</td>\n",
       "      <td>30.0</td>\n",
       "      <td>1208333</td>\n",
       "    </tr>\n",
       "    <tr>\n",
       "      <th>2</th>\n",
       "      <td>Changamwe</td>\n",
       "      <td>NaN</td>\n",
       "      <td>131882</td>\n",
       "    </tr>\n",
       "    <tr>\n",
       "      <th>3</th>\n",
       "      <td>Jomvu</td>\n",
       "      <td>3.0</td>\n",
       "      <td>163415</td>\n",
       "    </tr>\n",
       "    <tr>\n",
       "      <th>4</th>\n",
       "      <td>Kisauni</td>\n",
       "      <td>6.0</td>\n",
       "      <td>291930</td>\n",
       "    </tr>\n",
       "    <tr>\n",
       "      <th>...</th>\n",
       "      <td>...</td>\n",
       "      <td>...</td>\n",
       "      <td>...</td>\n",
       "    </tr>\n",
       "    <tr>\n",
       "      <th>388</th>\n",
       "      <td>Makadara</td>\n",
       "      <td>10.0</td>\n",
       "      <td>189536</td>\n",
       "    </tr>\n",
       "    <tr>\n",
       "      <th>389</th>\n",
       "      <td>Mathare</td>\n",
       "      <td>14.0</td>\n",
       "      <td>206564</td>\n",
       "    </tr>\n",
       "    <tr>\n",
       "      <th>390</th>\n",
       "      <td>Njiru</td>\n",
       "      <td>31.0</td>\n",
       "      <td>626482</td>\n",
       "    </tr>\n",
       "    <tr>\n",
       "      <th>391</th>\n",
       "      <td>Starehe</td>\n",
       "      <td>12.0</td>\n",
       "      <td>210423</td>\n",
       "    </tr>\n",
       "    <tr>\n",
       "      <th>392</th>\n",
       "      <td>Westlands</td>\n",
       "      <td>15.0</td>\n",
       "      <td>308854</td>\n",
       "    </tr>\n",
       "  </tbody>\n",
       "</table>\n",
       "<p>393 rows × 3 columns</p>\n",
       "</div>"
      ],
      "text/plain": [
       "                name  Intersex     Total\n",
       "0              Kenya    1524.0  47564296\n",
       "1            Mombasa      30.0   1208333\n",
       "2         Changamwe        NaN    131882\n",
       "3             Jomvu        3.0    163415\n",
       "4            Kisauni       6.0    291930\n",
       "..               ...       ...       ...\n",
       "388   Makadara            10.0    189536\n",
       "389   Mathare             14.0    206564\n",
       "390    Njiru              31.0    626482\n",
       "391   Starehe             12.0    210423\n",
       "392  Westlands            15.0    308854\n",
       "\n",
       "[393 rows x 3 columns]"
      ]
     },
     "execution_count": 43,
     "metadata": {},
     "output_type": "execute_result"
    }
   ],
   "source": [
    "df.drop(['Male','Female'],axis = 1)"
   ]
  },
  {
   "cell_type": "markdown",
   "id": "a9a69f30",
   "metadata": {},
   "source": [
    "## Checking for the duplicated values"
   ]
  },
  {
   "cell_type": "code",
   "execution_count": 47,
   "id": "1eaca8bc",
   "metadata": {},
   "outputs": [
    {
     "data": {
      "text/plain": [
       "0      False\n",
       "1      False\n",
       "2      False\n",
       "3      False\n",
       "4      False\n",
       "       ...  \n",
       "388    False\n",
       "389    False\n",
       "390    False\n",
       "391    False\n",
       "392    False\n",
       "Length: 393, dtype: bool"
      ]
     },
     "execution_count": 47,
     "metadata": {},
     "output_type": "execute_result"
    }
   ],
   "source": [
    "df.duplicated()"
   ]
  },
  {
   "cell_type": "code",
   "execution_count": 48,
   "id": "e43efa1e",
   "metadata": {},
   "outputs": [
    {
     "data": {
      "text/plain": [
       "0"
      ]
     },
     "execution_count": 48,
     "metadata": {},
     "output_type": "execute_result"
    }
   ],
   "source": [
    "df.duplicated().sum()"
   ]
  },
  {
   "cell_type": "markdown",
   "id": "bef153c4",
   "metadata": {},
   "source": [
    "## Checking for the duplicates in specific column"
   ]
  },
  {
   "cell_type": "code",
   "execution_count": 49,
   "id": "e0e969a5",
   "metadata": {},
   "outputs": [
    {
     "data": {
      "text/plain": [
       "350"
      ]
     },
     "execution_count": 49,
     "metadata": {},
     "output_type": "execute_result"
    }
   ],
   "source": [
    "df.Intersex.duplicated().sum()"
   ]
  },
  {
   "cell_type": "code",
   "execution_count": 50,
   "id": "9957ea8c",
   "metadata": {},
   "outputs": [
    {
     "data": {
      "text/plain": [
       "0      False\n",
       "1      False\n",
       "2      False\n",
       "3      False\n",
       "4      False\n",
       "       ...  \n",
       "388     True\n",
       "389     True\n",
       "390     True\n",
       "391     True\n",
       "392     True\n",
       "Name: Intersex, Length: 393, dtype: bool"
      ]
     },
     "execution_count": 50,
     "metadata": {},
     "output_type": "execute_result"
    }
   ],
   "source": [
    "df.Intersex.duplicated()"
   ]
  },
  {
   "cell_type": "code",
   "execution_count": 51,
   "id": "955b4b31",
   "metadata": {},
   "outputs": [
    {
     "data": {
      "text/plain": [
       "1"
      ]
     },
     "execution_count": 51,
     "metadata": {},
     "output_type": "execute_result"
    }
   ],
   "source": [
    "df.Male.duplicated().sum()"
   ]
  },
  {
   "cell_type": "code",
   "execution_count": 52,
   "id": "313fb5fb",
   "metadata": {},
   "outputs": [
    {
     "data": {
      "text/plain": [
       "3"
      ]
     },
     "execution_count": 52,
     "metadata": {},
     "output_type": "execute_result"
    }
   ],
   "source": [
    "df.Female.duplicated().sum()"
   ]
  },
  {
   "cell_type": "code",
   "execution_count": 54,
   "id": "ead56019",
   "metadata": {},
   "outputs": [
    {
     "data": {
      "text/plain": [
       "7"
      ]
     },
     "execution_count": 54,
     "metadata": {},
     "output_type": "execute_result"
    }
   ],
   "source": [
    "df.name.duplicated().sum()"
   ]
  },
  {
   "cell_type": "code",
   "execution_count": 56,
   "id": "af1172f7",
   "metadata": {},
   "outputs": [
    {
     "data": {
      "text/plain": [
       "0"
      ]
     },
     "execution_count": 56,
     "metadata": {},
     "output_type": "execute_result"
    }
   ],
   "source": [
    "df.Total.duplicated().sum()"
   ]
  },
  {
   "cell_type": "markdown",
   "id": "3a0da1c5",
   "metadata": {},
   "source": [
    "### Dropping the duplicated values"
   ]
  },
  {
   "cell_type": "code",
   "execution_count": 57,
   "id": "7d27ba17",
   "metadata": {},
   "outputs": [
    {
     "data": {
      "text/plain": [
       "0      24014716\n",
       "1        598046\n",
       "2         63121\n",
       "3         80410\n",
       "4        145176\n",
       "         ...   \n",
       "388       93157\n",
       "389      100028\n",
       "390      318809\n",
       "391      101238\n",
       "392      155021\n",
       "Name: Female, Length: 390, dtype: int64"
      ]
     },
     "execution_count": 57,
     "metadata": {},
     "output_type": "execute_result"
    }
   ],
   "source": [
    "df.Female.drop_duplicates()"
   ]
  },
  {
   "cell_type": "code",
   "execution_count": 59,
   "id": "aa4d450b",
   "metadata": {},
   "outputs": [
    {
     "data": {
      "text/plain": [
       "0      24014716\n",
       "1        598046\n",
       "2         63121\n",
       "3         80410\n",
       "4        145176\n",
       "         ...   \n",
       "388       93157\n",
       "389      100028\n",
       "390      318809\n",
       "391      101238\n",
       "392      155021\n",
       "Name: Female, Length: 393, dtype: int64"
      ]
     },
     "execution_count": 59,
     "metadata": {},
     "output_type": "execute_result"
    }
   ],
   "source": [
    "df.Female"
   ]
  },
  {
   "cell_type": "markdown",
   "id": "a79859d3",
   "metadata": {},
   "source": []
  },
  {
   "cell_type": "code",
   "execution_count": null,
   "id": "2fe390ed",
   "metadata": {},
   "outputs": [],
   "source": []
  },
  {
   "cell_type": "markdown",
   "id": "2f783744",
   "metadata": {},
   "source": [
    "## Analysing the variables relationship"
   ]
  },
  {
   "cell_type": "markdown",
   "id": "6be908c4",
   "metadata": {},
   "source": [
    "### Corelation matrix/table->> summarizes data into relations between tables"
   ]
  },
  {
   "cell_type": "code",
   "execution_count": 69,
   "id": "c04223c3",
   "metadata": {},
   "outputs": [],
   "source": [
    "corelation = df.corr()"
   ]
  },
  {
   "cell_type": "code",
   "execution_count": 76,
   "id": "168ff823",
   "metadata": {},
   "outputs": [
    {
     "data": {
      "text/plain": [
       "<AxesSubplot:>"
      ]
     },
     "execution_count": 76,
     "metadata": {},
     "output_type": "execute_result"
    },
    {
     "data": {
      "image/png": "[encoded data removed]",
      "text/plain": [
       "<Figure size 432x288 with 2 Axes>"
      ]
     },
     "metadata": {
      "needs_background": "light"
     },
     "output_type": "display_data"
    }
   ],
   "source": [
    "sns.heatmap(corelation,xticklabels=corelation.columns,yticklabels=corelation.columns, annot=True)"
   ]
  },
  {
   "cell_type": "markdown",
   "id": "9f51a480",
   "metadata": {},
   "source": [
    "### Above corelation show that almost all columns relate/have realating values except for Intersex"
   ]
  },
  {
   "cell_type": "markdown",
   "id": "8323139d",
   "metadata": {},
   "source": [
    "### Creating a Pair-plot >> visualizing rlshp between two variables both categorical, boolean and continous data"
   ]
  },
  {
   "cell_type": "code",
   "execution_count": 77,
   "id": "5dd8c7c7",
   "metadata": {},
   "outputs": [
    {
     "data": {
      "text/plain": [
       "<seaborn.axisgrid.PairGrid at 0x20aa51e5550>"
      ]
     },
     "execution_count": 77,
     "metadata": {},
     "output_type": "execute_result"
    },
    {
     "data": {
      "image/png": "[encoded data removed]",
      "text/plain": [
       "<Figure size 720x720 with 20 Axes>"
      ]
     },
     "metadata": {
      "needs_background": "light"
     },
     "output_type": "display_data"
    }
   ],
   "source": [
    "sns.pairplot(df)"
   ]
  },
  {
   "cell_type": "markdown",
   "id": "2f025a2e",
   "metadata": {},
   "source": [
    "### Relation-plot>> scatter"
   ]
  },
  {
   "cell_type": "code",
   "execution_count": 78,
   "id": "9e443a90",
   "metadata": {},
   "outputs": [
    {
     "data": {
      "text/plain": [
       "<seaborn.axisgrid.FacetGrid at 0x20aa51e5700>"
      ]
     },
     "execution_count": 78,
     "metadata": {},
     "output_type": "execute_result"
    },
    {
     "data": {
      "image/png": "[encoded data removed]",
      "text/plain": [
       "<Figure size 519.375x360 with 1 Axes>"
      ]
     },
     "metadata": {
      "needs_background": "light"
     },
     "output_type": "display_data"
    }
   ],
   "source": [
    "sns.relplot(x=\"Female\",y=\"Male\",hue=\"name\",data=df)"
   ]
  },
  {
   "cell_type": "code",
   "execution_count": null,
   "id": "3452edfe",
   "metadata": {},
   "outputs": [],
   "source": [
    "import matplotlib as plt"
   ]
  },
  {
   "cell_type": "code",
   "execution_count": 79,
   "id": "f91b6591",
   "metadata": {},
   "outputs": [
    {
     "data": {
      "text/plain": [
       "<AxesSubplot:xlabel='name'>"
      ]
     },
     "execution_count": 79,
     "metadata": {},
     "output_type": "execute_result"
    },
    {
     "data": {
      "image/png": "[encoded data removed]",
      "text/plain": [
       "<Figure size 432x288 with 1 Axes>"
      ]
     },
     "metadata": {
      "needs_background": "light"
     },
     "output_type": "display_data"
    }
   ],
   "source": [
    "df.plot(x=\"name\", y=\"Intersex\",kind=\"line\")"
   ]
  },
  {
   "cell_type": "markdown",
   "id": "f83632e5",
   "metadata": {},
   "source": [
    "### Distribution of genders in the data "
   ]
  },
  {
   "cell_type": "markdown",
   "id": "1ed54d40",
   "metadata": {},
   "source": [
    "### Distribution plot"
   ]
  },
  {
   "cell_type": "code",
   "execution_count": 80,
   "id": "6380e10e",
   "metadata": {},
   "outputs": [
    {
     "name": "stderr",
     "output_type": "stream",
     "text": [
      "F:\\anaconda navigator\\lib\\site-packages\\seaborn\\distributions.py:2619: FutureWarning: `distplot` is a deprecated function and will be removed in a future version. Please adapt your code to use either `displot` (a figure-level function with similar flexibility) or `histplot` (an axes-level function for histograms).\n",
      "  warnings.warn(msg, FutureWarning)\n"
     ]
    },
    {
     "data": {
      "text/plain": [
       "<AxesSubplot:xlabel='Intersex', ylabel='Density'>"
      ]
     },
     "execution_count": 80,
     "metadata": {},
     "output_type": "execute_result"
    },
    {
     "data": {
      "image/png": "[encoded data removed]",
      "text/plain": [
       "<Figure size 432x288 with 1 Axes>"
      ]
     },
     "metadata": {
      "needs_background": "light"
     },
     "output_type": "display_data"
    }
   ],
   "source": [
    "sns.distplot(df['Intersex'])"
   ]
  },
  {
   "cell_type": "code",
   "execution_count": 81,
   "id": "c15d01ef",
   "metadata": {},
   "outputs": [
    {
     "name": "stderr",
     "output_type": "stream",
     "text": [
      "F:\\anaconda navigator\\lib\\site-packages\\seaborn\\distributions.py:2619: FutureWarning: `distplot` is a deprecated function and will be removed in a future version. Please adapt your code to use either `displot` (a figure-level function with similar flexibility) or `histplot` (an axes-level function for histograms).\n",
      "  warnings.warn(msg, FutureWarning)\n"
     ]
    },
    {
     "data": {
      "text/plain": [
       "<AxesSubplot:xlabel='Male', ylabel='Density'>"
      ]
     },
     "execution_count": 81,
     "metadata": {},
     "output_type": "execute_result"
    },
    {
     "data": {
      "image/png": "[encoded data removed]",
      "text/plain": [
       "<Figure size 432x288 with 1 Axes>"
      ]
     },
     "metadata": {
      "needs_background": "light"
     },
     "output_type": "display_data"
    }
   ],
   "source": [
    "sns.distplot(df['Male'])"
   ]
  },
  {
   "cell_type": "markdown",
   "id": "2a38d699",
   "metadata": {},
   "source": [
    "### Categorical plot"
   ]
  },
  {
   "cell_type": "code",
   "execution_count": 86,
   "id": "2caa60a9",
   "metadata": {},
   "outputs": [
    {
     "data": {
      "text/plain": [
       "<seaborn.axisgrid.FacetGrid at 0x20aac442c10>"
      ]
     },
     "execution_count": 86,
     "metadata": {},
     "output_type": "execute_result"
    },
    {
     "data": {
      "image/png": "[encoded data removed]",
      "text/plain": [
       "<Figure size 360x360 with 1 Axes>"
      ]
     },
     "metadata": {
      "needs_background": "light"
     },
     "output_type": "display_data"
    }
   ],
   "source": [
    "sns.catplot(x='Intersex',kind='box',data = df)"
   ]
  },
  {
   "cell_type": "markdown",
   "id": "1ef302cb",
   "metadata": {},
   "source": [
    "### Above plots in Intersex shows that  they range slightly above zero in many of the sub counties"
   ]
  },
  {
   "cell_type": "code",
   "execution_count": null,
   "id": "d5ebf321",
   "metadata": {},
   "outputs": [],
   "source": []
  },
  {
   "cell_type": "markdown",
   "id": "8891a862",
   "metadata": {},
   "source": [
    "# Thank You"
   ]
  },
  {
   "cell_type": "markdown",
   "id": "189f3d1c",
   "metadata": {},
   "source": [
    "# Copyright: The Davis Generation"
   ]
  },
  {
   "cell_type": "markdown",
   "id": "99a4fe41",
   "metadata": {},
   "source": [
    "## W.A : +254757536155"
   ]
  }
 ],
 "metadata": {
  "kernelspec": {
   "display_name": "Python 3 (ipykernel)",
   "language": "python",
   "name": "python3"
  },
  "language_info": {
   "codemirror_mode": {
    "name": "ipython",
    "version": 3
   },
   "file_extension": ".py",
   "mimetype": "text/x-python",
   "name": "python",
   "nbconvert_exporter": "python",
   "pygments_lexer": "ipython3",
   "version": "3.9.7"
  }
 },
 "nbformat": 4,
 "nbformat_minor": 5
}
